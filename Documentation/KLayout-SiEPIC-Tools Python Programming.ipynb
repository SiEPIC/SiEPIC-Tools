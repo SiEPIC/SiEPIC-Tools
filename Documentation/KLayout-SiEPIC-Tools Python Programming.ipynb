{
 "cells": [
  {
   "cell_type": "markdown",
   "id": "224a47cb",
   "metadata": {},
   "source": [
    "# Creating layouts by programming KLayout in Python\n",
    "This tutorial is based on an open source application for creating layouts (KLayout), and open source set of helper scripts in Python (SiEPIC-Tools), and an open source Process Design Kit (PDK) with technology files (SiEPIC-EBeam-PDK).\n",
    "\n",
    "Note this notebook is for educational purposes. Copy and paste the necessary code segments into your own Python project, using your favourite development environment, e.g., VSCode, Spyder, Jupyter notebook, KLayout's embedded Python, etc.\n",
    "\n",
    "### Software installation:\n",
    "\n",
    "***KLayout***\n",
    "\n",
    "> pip install klayout\n",
    "\n",
    "***SiEPIC-Tools***\n",
    "\n",
    "> pip install SiEPIC\n",
    "\n",
    "***SiEPIC-EBeam PDK***\n",
    "\n",
    "> pip install siepic_ebeam_pdk\n",
    "\n"
   ]
  },
  {
   "cell_type": "code",
   "execution_count": null,
   "id": "7a1042dd",
   "metadata": {},
   "outputs": [],
   "source": [
    "!pip install klayout --upgrade\n",
    "!pip install SiEPIC  --upgrade\n",
    "!pip install siepic_ebeam_pdk  --upgrade"
   ]
  },
  {
   "cell_type": "markdown",
   "id": "f5ca9186",
   "metadata": {},
   "source": [
    "# Tutorial\n",
    "\n",
    "### Create a new layout\n",
    " - technology: EBeam\n",
    " - top cell name: Top\n",
    " - floor plan dimensions: 605,000 x 410,000 nm = 605 x 410 µm\n",
    " - database units (1 unit = 0.001 micron = 1 nm, configured in the EBeam technology)"
   ]
  },
  {
   "cell_type": "code",
   "execution_count": 1,
   "id": "3ce45d0b",
   "metadata": {},
   "outputs": [
    {
     "name": "stdout",
     "output_type": "stream",
     "text": [
      "KLayout SiEPIC-Tools version 0.5.11\n",
      "SiEPIC-EBeam-PDK Python module: siepic_ebeam_pdk, KLayout technology: EBeam\n",
      "No libraries associated to EBeam technology\n",
      "Loaded technology libraries: ['Basic', 'EBeam', 'EBeam-ANT', 'EBeam-Dream', 'EBeam-SiN', 'EBeam_Beta']\n"
     ]
    }
   ],
   "source": [
    "import pya # KLayout Python API\n",
    "import SiEPIC  # import module for SiEPIC-Tools, helper functions for KLayout\n",
    "import siepic_ebeam_pdk  # import module for the SiEPIC-EBeam-PDK technology\n",
    "from SiEPIC.utils.layout import new_layout, floorplan\n",
    "\n",
    "tech_name, top_cell_name = 'EBeam', 'Top'\n",
    "topcell, ly = new_layout(tech_name, top_cell_name, GUI=True, overwrite = True)\n",
    "floorplan(topcell, 605e3, 410e3)\n",
    "dbu = ly.dbu"
   ]
  },
  {
   "cell_type": "markdown",
   "id": "1c264a9f",
   "metadata": {},
   "source": [
    "### Create a blank cell in the layout\n",
    "- name: cell\n",
    "- Instantiate it as a subcell of the top cell at position (0,0) database units\n",
    "- record the instance in a variable (inst_cell) so we can manipulate or query it later if necessary"
   ]
  },
  {
   "cell_type": "code",
   "execution_count": 2,
   "id": "fb55cd8f",
   "metadata": {},
   "outputs": [],
   "source": [
    "import pya  # import module for KLayout\n",
    "\n",
    "subcell = ly.create_cell('cell')\n",
    "t = pya.Trans(pya.Trans.R0, 0,0)\n",
    "inst_cell = topcell.insert(pya.CellInstArray(subcell.cell_index(), t))"
   ]
  },
  {
   "cell_type": "markdown",
   "id": "1cf4ae2d",
   "metadata": {},
   "source": [
    "### Place cells from the PDK\n",
    "- use SiEPIC create_cell2 function, which is an enhanced version (error checking) of pya.Layout.create_cell\n",
    "- Instantiate it in the subcell at position (40 µm, 15 µm) or (40e3, 15e3) database units\n",
    "- record the instance in a variable (inst_gc1) so we can manipulate or query it later if necessary"
   ]
  },
  {
   "cell_type": "code",
   "execution_count": 3,
   "id": "1fa6c5cc",
   "metadata": {},
   "outputs": [
    {
     "data": {
      "image/png": "[encoded data removed]",
      "text/plain": [
       "<IPython.core.display.Image object>"
      ]
     },
     "metadata": {
      "image/png": {
       "height": 271,
       "width": 400
      }
     },
     "output_type": "display_data"
    },
    {
     "data": {
      "image/png": "[encoded data removed]",
      "text/plain": [
       "<IPython.core.display.Image object>"
      ]
     },
     "metadata": {
      "image/png": {
       "height": 271,
       "width": 400
      }
     },
     "output_type": "display_data"
    }
   ],
   "source": [
    "from SiEPIC.utils import create_cell2\n",
    "cell = create_cell2(ly, 'GC_TE_1310_8degOxide_BB', 'EBeam')\n",
    "t = pya.Trans(pya.Trans.R0, 40e3,15e3)\n",
    "inst_gc1 = topcell.insert(pya.CellInstArray(cell.cell_index(), t))\n",
    "\n",
    "t = pya.Trans(pya.Trans.R0, 40e3,15e3+127e3)\n",
    "inst_gc2 = topcell.insert(pya.CellInstArray(cell.cell_index(), t))\n",
    "\n",
    "cell.plot(width = 400)\n",
    "topcell.plot(width = 400)"
   ]
  },
  {
   "cell_type": "markdown",
   "id": "502aa6ce",
   "metadata": {},
   "source": [
    "## Components and their pins\n",
    "- Query a cell to get the SiEPIC Component description\n",
    "- Get the pins associated with this Component\n",
    "- Alternative: Query a cell to get a list of Pins"
   ]
  },
  {
   "cell_type": "code",
   "execution_count": 4,
   "id": "1725d0b8",
   "metadata": {},
   "outputs": [
    {
     "name": "stdout",
     "output_type": "stream",
     "text": [
      "Display component details:\n",
      "<class 'SiEPIC.core.Component'>\n",
      "- basic_name: GC_TE_1310_8degOxide_BB, component: GC_TE_1310_8degOxide_BB-0 / GC_TE_1310_8degOxide_BB; transformation: r0 *1 0,0; center position: -19.985,0.084; number of pins: 2; optical pins: [['opt1', '0,0', None]]; electrical pins: []; optical IO pins: [['GC_TE_1310_8degOxide_BB', '-20400,0', None]]; has compact model: False; params: .\n",
      "\n",
      "Display pin details:\n",
      "- pin_name opt1: component_idx 0, pin_type 1, rotation: 0.0, net: None, (0,0), path: (-10,0;10,0) w=350 bx=0 ex=0 r=false\n",
      "- pin_name GC_TE_1310_8degOxide_BB: component_idx 0, pin_type 0, rotation: 0, net: None, (-20400,0), path: None\n",
      "\n",
      "Display pin names:\n",
      " -  opt1\n"
     ]
    }
   ],
   "source": [
    "\n",
    "print('Display component details:')\n",
    "component = cell.find_components()[0]  # find component within a cell, return the first one\n",
    "print(type(component))\n",
    "component.display()\n",
    "\n",
    "print('\\nDisplay pin details:')\n",
    "pins = cell.find_pins_component(component)\n",
    "for p in pins:\n",
    "    p.display()\n",
    "    \n",
    "# or only pins\n",
    "print('\\nDisplay pin names:')\n",
    "pins, _ = cell.find_pins()\n",
    "for p in pins:\n",
    "    if p.type == 1:  # optical pin type, defined in SiEPIC._globals\n",
    "        print(' - ', p.pin_name)"
   ]
  },
  {
   "cell_type": "markdown",
   "id": "166e3def",
   "metadata": {},
   "source": [
    "## Waveguides\n",
    "- Find out what types of waveguides are defined in the PDK\n",
    "- Connect two components using a waveguide\n",
    "- Specify the waveguide type\n",
    "- Specify the path the waveguide should take\n",
    "- Return the wavelength details (length)"
   ]
  },
  {
   "cell_type": "code",
   "execution_count": 5,
   "id": "d01e8e3e",
   "metadata": {},
   "outputs": [
    {
     "name": "stdout",
     "output_type": "stream",
     "text": [
      "Waveguide types:\n",
      "  Strip TE 1550 nm, w=500 nm\n",
      "  Strip TE 1310 nm, w=410 nm\n",
      "  Strip TE 1310 nm, w=350 nm\n",
      "  Strip TM 1550 nm, w=500 nm\n",
      "  Strip TE-TM 1550, w=450 nm\n",
      "  Multimode Strip TE 1550 nm, w=2000 nm\n",
      "  Multimode Strip TE 1550 nm, w=3000 nm\n",
      "  Slot TE 1550 nm, w=500 nm, gap=100nm\n",
      "  eskid TE 1550\n",
      "  Rib (90 nm slab) TE 1550 nm, w=500 nm\n",
      "  Rib (90 nm slab) TE 1310 nm, w=350 nm\n",
      "  Si routing TE 1550 nm (compound waveguide)\n",
      "  Si routing TE 1310 nm (compound waveguide)\n",
      "  SiN Strip TE 895 nm, w=450 nm\n",
      "  SiN Strip TE 1550 nm, w=750 nm\n",
      "  SiN Strip TE 1550 nm, w=800 nm\n",
      "  SiN Strip TE 1550 nm, w=1000 nm\n",
      "  SiN Strip TM 1550 nm, w=1000 nm\n",
      "  SiN Strip TE 1310 nm, w=750 nm\n",
      "  SiN Strip TM 1310 nm, w=750 nm\n",
      "  Multimode SiN Strip TE 1550 nm, w=3000 nm\n",
      "  SiN routing TE 1550 nm (compound waveguide)\n",
      "190.793\n"
     ]
    },
    {
     "data": {
      "image/png": "[encoded data removed]",
      "text/plain": [
       "<IPython.core.display.Image object>"
      ]
     },
     "metadata": {
      "image/png": {
       "height": 549,
       "width": 800
      }
     },
     "output_type": "display_data"
    },
    {
     "name": "stdout",
     "output_type": "stream",
     "text": [
      "Message from klive: {\"version\": \"0.2.2\", \"type\": \"open\", \"file\": \"/var/folders/2_/hfctv7kn7h965wdl4jgrm8t80000gn/T/tmp9z98hcki/Top.gds\"}\n"
     ]
    }
   ],
   "source": [
    "from SiEPIC.utils import load_Waveguides_by_Tech\n",
    "waveguide_types = load_Waveguides_by_Tech(tech_name)\n",
    "\n",
    "print('Waveguide types:')\n",
    "for w in waveguide_types:\n",
    "    print('  %s' % w['name'])\n",
    "wg_type = waveguide_types[0]['name']\n",
    "\n",
    "from SiEPIC.scripts import connect_pins_with_waveguide\n",
    "wg = connect_pins_with_waveguide(inst_gc1, 'opt1', inst_gc2, 'opt1', \n",
    "                                    turtle_A=[5, -90, \n",
    "                                              20, 90, 10, 90, 1, 90],\n",
    "                                    waveguide_type=wg_type,\n",
    "                                )\n",
    "\n",
    "from SiEPIC.utils import waveguide_length\n",
    "print(waveguide_length(wg))\n",
    "\n",
    "topcell.plot() # in the browser\n",
    "topcell.show() # in KLayout GUI\n",
    "        "
   ]
  },
  {
   "cell_type": "markdown",
   "id": "9648c84c",
   "metadata": {},
   "source": [
    "## Developers\n",
    "- Install the tools and PDKs by creating a copy using GitHub Desktop, then installing as a symbolic link in pip."
   ]
  },
  {
   "cell_type": "code",
   "execution_count": null,
   "id": "ff650ee7",
   "metadata": {},
   "outputs": [],
   "source": [
    "!python -m pip install -e '/Users/lukasc/Documents/GitHub/SiEPIC-Tools/klayout_dot_config/python'\n",
    "!python -m pip install -e '/Users/lukasc/Documents/GitHub/SiEPIC_EBeam_PDK/klayout'"
   ]
  },
  {
   "cell_type": "code",
   "execution_count": null,
   "id": "36268e1c",
   "metadata": {},
   "outputs": [],
   "source": []
  }
 ],
 "metadata": {
  "kernelspec": {
   "display_name": "Python 3 (ipykernel)",
   "language": "python",
   "name": "python3"
  },
  "language_info": {
   "codemirror_mode": {
    "name": "ipython",
    "version": 3
   },
   "file_extension": ".py",
   "mimetype": "text/x-python",
   "name": "python",
   "nbconvert_exporter": "python",
   "pygments_lexer": "ipython3",
   "version": "3.10.13"
  }
 },
 "nbformat": 4,
 "nbformat_minor": 5
}
