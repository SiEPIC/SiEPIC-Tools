{
 "cells": [
  {
   "cell_type": "markdown",
   "id": "224a47cb",
   "metadata": {},
   "source": [
    "# Creating layouts by programming KLayout in Python\n",
    "This tutorial is based on an open source application for creating layouts (KLayout), and open source set of helper scripts in Python (SiEPIC-Tools), and an open source Process Design Kit (PDK) with technology files (SiEPIC-EBeam-PDK).\n",
    "\n",
    "Note this notebook is for educational purposes. Copy and paste the necessary code segments into your own Python project, using your favourite development environment, e.g., VSCode, Spyder, Jupyter notebook, KLayout's embedded Python, etc.\n",
    "\n",
    "### Software installation:\n",
    "\n",
    "***KLayout***\n",
    "\n",
    "> pip install klayout\n",
    "\n",
    "***SiEPIC-Tools***\n",
    "\n",
    "> pip install SiEPIC\n",
    "\n",
    "***SiEPIC-EBeam PDK***\n",
    "\n",
    "> pip install siepic_ebeam_pdk\n",
    "\n"
   ]
  },
  {
   "cell_type": "code",
   "execution_count": null,
   "id": "7a1042dd",
   "metadata": {},
   "outputs": [],
   "source": [
    "!pip install klayout --upgrade\n",
    "!pip install SiEPIC  --upgrade\n",
    "!pip install siepic_ebeam_pdk  --upgrade"
   ]
  },
  {
   "cell_type": "markdown",
   "id": "f5ca9186",
   "metadata": {},
   "source": [
    "# Tutorial\n",
    "\n",
    "### Create a new layout\n",
    " - technology: EBeam\n",
    " - top cell name: Top\n",
    " - floor plan dimensions: 605,000 x 410,000 nm = 605 x 410 µm\n",
    " - database units (1 unit = 0.001 micron = 1 nm, configured in the EBeam technology)"
   ]
  },
  {
   "cell_type": "code",
   "execution_count": 1,
   "id": "3ce45d0b",
   "metadata": {},
   "outputs": [
    {
     "name": "stdout",
     "output_type": "stream",
     "text": [
      "KLayout SiEPIC-Tools version 0.5.28\n",
      "SiEPIC-Tools is up to date (0.5.28 vs 0.5.28).\n",
      "Version check, time: 0.20283007621765137 seconds\n",
      "SiEPIC-EBeam-PDK Python module: siepic_ebeam_pdk, KLayout technology: EBeam\n",
      "SiEPIC-EBeam-PDK Python module: pymacros, v0.4.47\n",
      "Libraries associated with Technology EBeam: ['EBeam', 'EBeam-ANT', 'EBeam-Dream', 'EBeam-SiN', 'EBeam_Beta']\n"
     ]
    }
   ],
   "source": [
    "import pya # KLayout Python API\n",
    "import SiEPIC  # import module for SiEPIC-Tools, helper functions for KLayout\n",
    "import siepic_ebeam_pdk  # import module for the SiEPIC-EBeam-PDK technology\n",
    "from SiEPIC.utils.layout import new_layout, floorplan\n",
    "\n",
    "tech_name, top_cell_name = 'EBeam', 'Top'\n",
    "topcell, ly = new_layout(tech_name, top_cell_name, GUI=True, overwrite = True)\n",
    "floorplan(topcell, 605e3, 410e3)\n",
    "dbu = ly.dbu"
   ]
  },
  {
   "cell_type": "markdown",
   "id": "1c264a9f",
   "metadata": {},
   "source": [
    "### Create a blank cell in the layout\n",
    "- name: cell\n",
    "- Instantiate it as a subcell of the top cell at position (0,0) database units\n",
    "- record the instance in a variable (inst_cell) so we can manipulate or query it later if necessary"
   ]
  },
  {
   "cell_type": "code",
   "execution_count": 5,
   "id": "fb55cd8f",
   "metadata": {},
   "outputs": [],
   "source": [
    "import pya  # import module for KLayout\n",
    "\n",
    "subcell = ly.create_cell('cell')\n",
    "t = pya.Trans(pya.Trans.R0, 0,0)\n",
    "inst_cell = topcell.insert(pya.CellInstArray(subcell.cell_index(), t))"
   ]
  },
  {
   "cell_type": "markdown",
   "id": "1cf4ae2d",
   "metadata": {},
   "source": [
    "### Place cells from the PDK\n",
    "- use SiEPIC create_cell2 function, which is an enhanced version (error checking) of pya.Layout.create_cell\n",
    "- Instantiate it in the subcell at position (40 µm, 15 µm) or (40e3, 15e3) database units\n",
    "- record the instance in a variable (inst_gc1) so we can manipulate or query it later if necessary"
   ]
  },
  {
   "cell_type": "code",
   "execution_count": 6,
   "id": "1fa6c5cc",
   "metadata": {},
   "outputs": [
    {
     "data": {
      "image/png": "[encoded data removed]",
      "text/plain": [
       "<IPython.core.display.Image object>"
      ]
     },
     "execution_count": 6,
     "metadata": {
      "image/png": {
       "height": 271,
       "width": 400
      }
     },
     "output_type": "execute_result"
    }
   ],
   "source": [
    "from SiEPIC.utils import create_cell2\n",
    "cell = create_cell2(ly, 'GC_TE_1310_8degOxide_BB', 'EBeam')\n",
    "t = pya.Trans(pya.Trans.R0, 40e3,15e3)\n",
    "inst_gc1 = topcell.insert(pya.CellInstArray(cell.cell_index(), t))\n",
    "\n",
    "t = pya.Trans(pya.Trans.R0, 40e3,15e3+127e3)\n",
    "inst_gc2 = topcell.insert(pya.CellInstArray(cell.cell_index(), t))\n",
    "\n",
    "cell.plot(width = 400)\n",
    "topcell.plot(width = 400)"
   ]
  },
  {
   "cell_type": "markdown",
   "id": "502aa6ce",
   "metadata": {},
   "source": [
    "## Components and their pins\n",
    "- Query a cell to get the SiEPIC Component description\n",
    "- Get the pins associated with this Component\n",
    "- Alternative: Query a cell to get a list of Pins"
   ]
  },
  {
   "cell_type": "code",
   "execution_count": 7,
   "id": "1725d0b8",
   "metadata": {},
   "outputs": [
    {
     "name": "stdout",
     "output_type": "stream",
     "text": [
      "Display component details:\n",
      "<class 'SiEPIC.core.Component'>\n",
      "- basic_name: GC_TE_1310_8degOxide_BB, component: GC_TE_1310_8degOxide_BB-0 / GC_TE_1310_8degOxide_BB; transformation: r0 *1 0,0; center position: -19.985,0.084; number of pins: 2; optical pins: [['opt1', '0,0', None]]; electrical pins: []; optical IO pins: [['GC_TE_1310_8degOxide_BB', '-20400,0', None]]; has compact model: False; params: .\n",
      "\n",
      "Display pin details:\n",
      "- pin_name opt1: component_idx 0, pin_type 1, rotation: 0.0, net: None, (0,0), path: (-10,0;10,0) w=350 bx=0 ex=0 r=false\n",
      "- pin_name GC_TE_1310_8degOxide_BB: component_idx 0, pin_type 0, rotation: 0, net: None, (-20400,0), path: None\n",
      "\n",
      "Display pin names:\n",
      " -  opt1\n"
     ]
    }
   ],
   "source": [
    "\n",
    "print('Display component details:')\n",
    "component = cell.find_components()[0]  # find component within a cell, return the first one\n",
    "print(type(component))\n",
    "component.display()\n",
    "\n",
    "print('\\nDisplay pin details:')\n",
    "pins = cell.find_pins_component(component)\n",
    "for p in pins:\n",
    "    p.display()\n",
    "    \n",
    "# or only pins\n",
    "print('\\nDisplay pin names:')\n",
    "pins, _ = cell.find_pins()\n",
    "for p in pins:\n",
    "    if p.type == 1:  # optical pin type, defined in SiEPIC._globals\n",
    "        print(' - ', p.pin_name)"
   ]
  },
  {
   "cell_type": "markdown",
   "id": "166e3def",
   "metadata": {},
   "source": [
    "## Waveguides\n",
    "- Find out what types of waveguides are defined in the PDK\n",
    "- Connect two components using a waveguide\n",
    "- Specify the waveguide type\n",
    "- Specify the path the waveguide should take\n",
    "- Return the wavelength details (length)"
   ]
  },
  {
   "cell_type": "code",
   "execution_count": null,
   "id": "d01e8e3e",
   "metadata": {},
   "outputs": [
    {
     "name": "stdout",
     "output_type": "stream",
     "text": [
      "Waveguide types:\n",
      "  Strip TE 1550 nm, w=500 nm\n",
      "  Strip TE 1550 nm, w=500 nm, r=10\n",
      "  Strip TE 1310 nm, w=410 nm\n",
      "  Strip TE 1310 nm, w=350 nm\n",
      "  Strip TM 1550 nm, w=500 nm\n",
      "  Strip TE-TM 1550, w=450 nm\n",
      "  Multimode Strip TE 1550 nm, w=2000 nm\n",
      "  Multimode Strip TE 1550 nm, w=3000 nm\n",
      "  Slot TE 1550 nm, w=500 nm, gap=100nm\n",
      "  eskid TE 1550\n",
      "  Rib (90 nm slab) TE 1550 nm, w=500 nm\n",
      "  Rib (90 nm slab) TE 1310 nm, w=350 nm\n",
      "  Si routing TE 1550 nm (compound waveguide)\n",
      "  Si routing TE 1310 nm (compound waveguide)\n",
      "  SiN Strip TE 895 nm, w=450 nm\n",
      "  SiN Strip TE 1550 nm, w=750 nm\n",
      "  SiN Strip TE 1550 nm, w=800 nm\n",
      "  SiN Strip TE 1550 nm, w=1000 nm\n",
      "  SiN Strip TM 1550 nm, w=1000 nm\n",
      "  SiN Strip TE 1310 nm, w=750 nm\n",
      "  SiN Strip TE 1310 nm, w=800 nm\n",
      "  SiN Strip TM 1310 nm, w=750 nm\n",
      "  Multimode SiN Strip TE 1550 nm, w=3000 nm\n",
      "  SiN routing TE 1550 nm (compound waveguide)\n",
      "190.793\n",
      "Message from klive: {\"version\": \"0.2.2\", \"type\": \"open\", \"file\": \"/var/folders/2_/hfctv7kn7h965wdl4jgrm8t80000gn/T/tmpiu1qbxpk/Top.gds\"}\n"
     ]
    }
   ],
   "source": [
    "from SiEPIC.utils import load_Waveguides_by_Tech\n",
    "waveguide_types = load_Waveguides_by_Tech(tech_name)\n",
    "\n",
    "print('Waveguide types:')\n",
    "for w in waveguide_types:\n",
    "    print('  %s' % w['name'])\n",
    "wg_type = waveguide_types[0]['name']\n",
    "\n",
    "from SiEPIC.scripts import connect_pins_with_waveguide\n",
    "wg = connect_pins_with_waveguide(inst_gc1, 'opt1', inst_gc2, 'opt1', \n",
    "                                    turtle_A=[5, -90, \n",
    "                                              20, 90, 10, 90, 1, 90],\n",
    "                                    waveguide_type=wg_type,\n",
    "                                )\n",
    "\n",
    "from SiEPIC.utils import waveguide_length\n",
    "print(waveguide_length(wg))\n",
    "\n",
    "topcell.plot() # in the browser\n",
    "topcell.show() # in KLayout GUI\n",
    "        "
   ]
  },
  {
   "cell_type": "markdown",
   "id": "2b10d96e",
   "metadata": {},
   "source": [
    "# Instantiate a PCell"
   ]
  },
  {
   "cell_type": "code",
   "execution_count": 19,
   "id": "3fd6f2b7",
   "metadata": {},
   "outputs": [
    {
     "data": {
      "image/png": "[encoded data removed]",
      "text/plain": [
       "<IPython.core.display.Image object>"
      ]
     },
     "execution_count": 19,
     "metadata": {
      "image/png": {
       "height": 183,
       "width": 800
      }
     },
     "output_type": "execute_result"
    }
   ],
   "source": [
    "tech_name, top_cell_name = 'EBeam', 'Top'\n",
    "topcell, ly = new_layout(tech_name, top_cell_name, GUI=True, overwrite = True)\n",
    "\n",
    "cell = ly.create_cell('ebeam_dc_te1550', 'EBeam',\n",
    "                       {'Lc':15})  # set the coupler length \n",
    "t = pya.Trans(pya.Trans.R0, 100e3,130e3)\n",
    "inst_dc = topcell.insert(pya.CellInstArray(cell.cell_index(), t))\n",
    "\n",
    "topcell.plot() # in the browser\n"
   ]
  },
  {
   "cell_type": "markdown",
   "id": "a41757f8",
   "metadata": {},
   "source": [
    "# Connect a component"
   ]
  },
  {
   "cell_type": "code",
   "execution_count": 20,
   "id": "89210463",
   "metadata": {},
   "outputs": [
    {
     "data": {
      "image/png": "[encoded data removed]",
      "text/plain": [
       "<IPython.core.display.Image object>"
      ]
     },
     "execution_count": 20,
     "metadata": {
      "image/png": {
       "height": 101,
       "width": 800
      }
     },
     "output_type": "execute_result"
    }
   ],
   "source": [
    "from SiEPIC.utils import create_cell2\n",
    "cell_terminator = create_cell2(ly, 'ebeam_terminator_te1550', 'EBeam')\n",
    "\n",
    "# Add terminators\n",
    "from SiEPIC.scripts import connect_cell\n",
    "connect_cell(inst_dc, 'pin1', cell_terminator, 'opt1')\n",
    "connect_cell(inst_dc, 'pin2', cell_terminator, 'opt1')\n",
    "connect_cell(inst_dc, 'pin3', cell_terminator, 'opt1')\n",
    "connect_cell(inst_dc, 'pin4', cell_terminator, 'opt1')\n",
    "\n",
    "topcell.plot() # in the browser\n"
   ]
  },
  {
   "cell_type": "markdown",
   "id": "9648c84c",
   "metadata": {},
   "source": [
    "## Developers\n",
    "- Install the tools and PDKs by creating a copy using GitHub Desktop, then installing as a symbolic link in pip."
   ]
  },
  {
   "cell_type": "code",
   "execution_count": 9,
   "id": "ff650ee7",
   "metadata": {},
   "outputs": [
    {
     "name": "stdout",
     "output_type": "stream",
     "text": [
      "Obtaining file:///Users/lukasc/Documents/GitHub/SiEPIC-Tools/klayout_dot_config/python\n",
      "  Installing build dependencies ... \u001b[?25ldone\n",
      "\u001b[?25h  Checking if build backend supports build_editable ... \u001b[?25ldone\n",
      "\u001b[?25h  Getting requirements to build editable ... \u001b[?25ldone\n",
      "\u001b[?25h  Preparing editable metadata (pyproject.toml) ... \u001b[?25ldone\n",
      "\u001b[?25hRequirement already satisfied: numpy in /opt/homebrew/lib/python3.10/site-packages (from SiEPIC==0.5.28) (1.26.3)\n",
      "Requirement already satisfied: scipy in /opt/homebrew/lib/python3.10/site-packages (from SiEPIC==0.5.28) (1.12.0)\n",
      "Requirement already satisfied: pandas in /opt/homebrew/lib/python3.10/site-packages (from SiEPIC==0.5.28) (2.2.0)\n",
      "Requirement already satisfied: requests in /opt/homebrew/lib/python3.10/site-packages (from SiEPIC==0.5.28) (2.32.3)\n",
      "Requirement already satisfied: IPython in /opt/homebrew/lib/python3.10/site-packages (from SiEPIC==0.5.28) (8.10.0)\n",
      "Requirement already satisfied: klayout in /opt/homebrew/lib/python3.10/site-packages (from SiEPIC==0.5.28) (0.30.1)\n",
      "Requirement already satisfied: backcall in /opt/homebrew/lib/python3.10/site-packages (from IPython->SiEPIC==0.5.28) (0.2.0)\n",
      "Requirement already satisfied: decorator in /opt/homebrew/lib/python3.10/site-packages (from IPython->SiEPIC==0.5.28) (5.1.1)\n",
      "Requirement already satisfied: jedi>=0.16 in /opt/homebrew/lib/python3.10/site-packages (from IPython->SiEPIC==0.5.28) (0.18.2)\n",
      "Requirement already satisfied: matplotlib-inline in /opt/homebrew/lib/python3.10/site-packages (from IPython->SiEPIC==0.5.28) (0.1.6)\n",
      "Requirement already satisfied: pickleshare in /opt/homebrew/lib/python3.10/site-packages (from IPython->SiEPIC==0.5.28) (0.7.5)\n",
      "Requirement already satisfied: prompt-toolkit<3.1.0,>=3.0.30 in /opt/homebrew/lib/python3.10/site-packages (from IPython->SiEPIC==0.5.28) (3.0.36)\n",
      "Requirement already satisfied: pygments>=2.4.0 in /opt/homebrew/lib/python3.10/site-packages (from IPython->SiEPIC==0.5.28) (2.13.0)\n",
      "Requirement already satisfied: stack-data in /opt/homebrew/lib/python3.10/site-packages (from IPython->SiEPIC==0.5.28) (0.6.2)\n",
      "Requirement already satisfied: traitlets>=5 in /opt/homebrew/lib/python3.10/site-packages (from IPython->SiEPIC==0.5.28) (5.9.0)\n",
      "Requirement already satisfied: pexpect>4.3 in /opt/homebrew/lib/python3.10/site-packages (from IPython->SiEPIC==0.5.28) (4.8.0)\n",
      "Requirement already satisfied: appnope in /opt/homebrew/lib/python3.10/site-packages (from IPython->SiEPIC==0.5.28) (0.1.3)\n",
      "Requirement already satisfied: wcwidth in /opt/homebrew/lib/python3.10/site-packages (from prompt-toolkit<3.1.0,>=3.0.30->IPython->SiEPIC==0.5.28) (0.2.6)\n",
      "Requirement already satisfied: parso<0.9.0,>=0.8.0 in /opt/homebrew/lib/python3.10/site-packages (from jedi>=0.16->IPython->SiEPIC==0.5.28) (0.8.3)\n",
      "Requirement already satisfied: ptyprocess>=0.5 in /opt/homebrew/lib/python3.10/site-packages (from pexpect>4.3->IPython->SiEPIC==0.5.28) (0.7.0)\n",
      "Requirement already satisfied: python-dateutil>=2.8.2 in /opt/homebrew/lib/python3.10/site-packages (from pandas->SiEPIC==0.5.28) (2.8.2)\n",
      "Requirement already satisfied: pytz>=2020.1 in /opt/homebrew/lib/python3.10/site-packages (from pandas->SiEPIC==0.5.28) (2022.7.1)\n",
      "Requirement already satisfied: tzdata>=2022.7 in /opt/homebrew/lib/python3.10/site-packages (from pandas->SiEPIC==0.5.28) (2024.1)\n",
      "Requirement already satisfied: six>=1.5 in /opt/homebrew/lib/python3.10/site-packages (from python-dateutil>=2.8.2->pandas->SiEPIC==0.5.28) (1.16.0)\n",
      "Requirement already satisfied: charset-normalizer<4,>=2 in /opt/homebrew/lib/python3.10/site-packages (from requests->SiEPIC==0.5.28) (2.1.1)\n",
      "Requirement already satisfied: idna<4,>=2.5 in /opt/homebrew/lib/python3.10/site-packages (from requests->SiEPIC==0.5.28) (3.3)\n",
      "Requirement already satisfied: urllib3<3,>=1.21.1 in /opt/homebrew/lib/python3.10/site-packages (from requests->SiEPIC==0.5.28) (1.26.12)\n",
      "Requirement already satisfied: certifi>=2017.4.17 in /opt/homebrew/lib/python3.10/site-packages (from requests->SiEPIC==0.5.28) (2022.6.15)\n",
      "Requirement already satisfied: executing>=1.2.0 in /opt/homebrew/lib/python3.10/site-packages (from stack-data->IPython->SiEPIC==0.5.28) (1.2.0)\n",
      "Requirement already satisfied: asttokens>=2.1.0 in /opt/homebrew/lib/python3.10/site-packages (from stack-data->IPython->SiEPIC==0.5.28) (2.2.1)\n",
      "Requirement already satisfied: pure-eval in /opt/homebrew/lib/python3.10/site-packages (from stack-data->IPython->SiEPIC==0.5.28) (0.2.2)\n",
      "Building wheels for collected packages: SiEPIC\n",
      "  Building editable for SiEPIC (pyproject.toml) ... \u001b[?25ldone\n",
      "\u001b[?25h  Created wheel for SiEPIC: filename=siepic-0.5.28-0.editable-py3-none-any.whl size=4497 sha256=dcea1e3df859b166b53fe21aec123a1c3c55a0ff522972b5709426724c4ffdc1\n",
      "  Stored in directory: /private/var/folders/2_/hfctv7kn7h965wdl4jgrm8t80000gn/T/pip-ephem-wheel-cache-g8ruhwjn/wheels/b4/6c/1b/d9c71c76ac3927f9781889d2dae250ccb80f7745619aa177da\n",
      "Successfully built SiEPIC\n",
      "Installing collected packages: SiEPIC\n",
      "  Attempting uninstall: SiEPIC\n",
      "    Found existing installation: SiEPIC 0.5.26\n",
      "    Uninstalling SiEPIC-0.5.26:\n",
      "      Successfully uninstalled SiEPIC-0.5.26\n",
      "\u001b[31mERROR: pip's dependency resolver does not currently take into account all the packages that are installed. This behaviour is the source of the following dependency conflicts.\n",
      "dream-ph18m-pdk 0.4.0 requires klayout<0.30.0,>=0.29.5, but you have klayout 0.30.1 which is incompatible.\u001b[0m\u001b[31m\n",
      "\u001b[0mSuccessfully installed SiEPIC-0.5.28\n",
      "Obtaining file:///Users/lukasc/Documents/GitHub/SiEPIC_EBeam_PDK/klayout\n",
      "  Installing build dependencies ... \u001b[?25ldone\n",
      "\u001b[?25h  Checking if build backend supports build_editable ... \u001b[?25ldone\n",
      "\u001b[?25h  Getting requirements to build editable ... \u001b[?25ldone\n",
      "\u001b[?25h  Preparing editable metadata (pyproject.toml) ... \u001b[?25ldone\n",
      "\u001b[?25hRequirement already satisfied: SiEPIC>=0.5.20 in /opt/homebrew/lib/python3.10/site-packages (from siepic_ebeam_pdk==0.4.47) (0.5.28)\n",
      "Requirement already satisfied: numpy in /opt/homebrew/lib/python3.10/site-packages (from siepic_ebeam_pdk==0.4.47) (1.26.3)\n",
      "Requirement already satisfied: packaging in /opt/homebrew/lib/python3.10/site-packages (from siepic_ebeam_pdk==0.4.47) (24.2)\n",
      "Requirement already satisfied: scipy in /opt/homebrew/lib/python3.10/site-packages (from SiEPIC>=0.5.20->siepic_ebeam_pdk==0.4.47) (1.12.0)\n",
      "Requirement already satisfied: pandas in /opt/homebrew/lib/python3.10/site-packages (from SiEPIC>=0.5.20->siepic_ebeam_pdk==0.4.47) (2.2.0)\n",
      "Requirement already satisfied: requests in /opt/homebrew/lib/python3.10/site-packages (from SiEPIC>=0.5.20->siepic_ebeam_pdk==0.4.47) (2.32.3)\n",
      "Requirement already satisfied: IPython in /opt/homebrew/lib/python3.10/site-packages (from SiEPIC>=0.5.20->siepic_ebeam_pdk==0.4.47) (8.10.0)\n",
      "Requirement already satisfied: klayout in /opt/homebrew/lib/python3.10/site-packages (from SiEPIC>=0.5.20->siepic_ebeam_pdk==0.4.47) (0.30.1)\n",
      "Requirement already satisfied: backcall in /opt/homebrew/lib/python3.10/site-packages (from IPython->SiEPIC>=0.5.20->siepic_ebeam_pdk==0.4.47) (0.2.0)\n",
      "Requirement already satisfied: decorator in /opt/homebrew/lib/python3.10/site-packages (from IPython->SiEPIC>=0.5.20->siepic_ebeam_pdk==0.4.47) (5.1.1)\n",
      "Requirement already satisfied: jedi>=0.16 in /opt/homebrew/lib/python3.10/site-packages (from IPython->SiEPIC>=0.5.20->siepic_ebeam_pdk==0.4.47) (0.18.2)\n",
      "Requirement already satisfied: matplotlib-inline in /opt/homebrew/lib/python3.10/site-packages (from IPython->SiEPIC>=0.5.20->siepic_ebeam_pdk==0.4.47) (0.1.6)\n",
      "Requirement already satisfied: pickleshare in /opt/homebrew/lib/python3.10/site-packages (from IPython->SiEPIC>=0.5.20->siepic_ebeam_pdk==0.4.47) (0.7.5)\n",
      "Requirement already satisfied: prompt-toolkit<3.1.0,>=3.0.30 in /opt/homebrew/lib/python3.10/site-packages (from IPython->SiEPIC>=0.5.20->siepic_ebeam_pdk==0.4.47) (3.0.36)\n",
      "Requirement already satisfied: pygments>=2.4.0 in /opt/homebrew/lib/python3.10/site-packages (from IPython->SiEPIC>=0.5.20->siepic_ebeam_pdk==0.4.47) (2.13.0)\n",
      "Requirement already satisfied: stack-data in /opt/homebrew/lib/python3.10/site-packages (from IPython->SiEPIC>=0.5.20->siepic_ebeam_pdk==0.4.47) (0.6.2)\n",
      "Requirement already satisfied: traitlets>=5 in /opt/homebrew/lib/python3.10/site-packages (from IPython->SiEPIC>=0.5.20->siepic_ebeam_pdk==0.4.47) (5.9.0)\n",
      "Requirement already satisfied: pexpect>4.3 in /opt/homebrew/lib/python3.10/site-packages (from IPython->SiEPIC>=0.5.20->siepic_ebeam_pdk==0.4.47) (4.8.0)\n",
      "Requirement already satisfied: appnope in /opt/homebrew/lib/python3.10/site-packages (from IPython->SiEPIC>=0.5.20->siepic_ebeam_pdk==0.4.47) (0.1.3)\n",
      "Requirement already satisfied: wcwidth in /opt/homebrew/lib/python3.10/site-packages (from prompt-toolkit<3.1.0,>=3.0.30->IPython->SiEPIC>=0.5.20->siepic_ebeam_pdk==0.4.47) (0.2.6)\n",
      "Requirement already satisfied: parso<0.9.0,>=0.8.0 in /opt/homebrew/lib/python3.10/site-packages (from jedi>=0.16->IPython->SiEPIC>=0.5.20->siepic_ebeam_pdk==0.4.47) (0.8.3)\n",
      "Requirement already satisfied: ptyprocess>=0.5 in /opt/homebrew/lib/python3.10/site-packages (from pexpect>4.3->IPython->SiEPIC>=0.5.20->siepic_ebeam_pdk==0.4.47) (0.7.0)\n",
      "Requirement already satisfied: python-dateutil>=2.8.2 in /opt/homebrew/lib/python3.10/site-packages (from pandas->SiEPIC>=0.5.20->siepic_ebeam_pdk==0.4.47) (2.8.2)\n",
      "Requirement already satisfied: pytz>=2020.1 in /opt/homebrew/lib/python3.10/site-packages (from pandas->SiEPIC>=0.5.20->siepic_ebeam_pdk==0.4.47) (2022.7.1)\n",
      "Requirement already satisfied: tzdata>=2022.7 in /opt/homebrew/lib/python3.10/site-packages (from pandas->SiEPIC>=0.5.20->siepic_ebeam_pdk==0.4.47) (2024.1)\n",
      "Requirement already satisfied: six>=1.5 in /opt/homebrew/lib/python3.10/site-packages (from python-dateutil>=2.8.2->pandas->SiEPIC>=0.5.20->siepic_ebeam_pdk==0.4.47) (1.16.0)\n",
      "Requirement already satisfied: charset-normalizer<4,>=2 in /opt/homebrew/lib/python3.10/site-packages (from requests->SiEPIC>=0.5.20->siepic_ebeam_pdk==0.4.47) (2.1.1)\n",
      "Requirement already satisfied: idna<4,>=2.5 in /opt/homebrew/lib/python3.10/site-packages (from requests->SiEPIC>=0.5.20->siepic_ebeam_pdk==0.4.47) (3.3)\n",
      "Requirement already satisfied: urllib3<3,>=1.21.1 in /opt/homebrew/lib/python3.10/site-packages (from requests->SiEPIC>=0.5.20->siepic_ebeam_pdk==0.4.47) (1.26.12)\n",
      "Requirement already satisfied: certifi>=2017.4.17 in /opt/homebrew/lib/python3.10/site-packages (from requests->SiEPIC>=0.5.20->siepic_ebeam_pdk==0.4.47) (2022.6.15)\n",
      "Requirement already satisfied: executing>=1.2.0 in /opt/homebrew/lib/python3.10/site-packages (from stack-data->IPython->SiEPIC>=0.5.20->siepic_ebeam_pdk==0.4.47) (1.2.0)\n",
      "Requirement already satisfied: asttokens>=2.1.0 in /opt/homebrew/lib/python3.10/site-packages (from stack-data->IPython->SiEPIC>=0.5.20->siepic_ebeam_pdk==0.4.47) (2.2.1)\n",
      "Requirement already satisfied: pure-eval in /opt/homebrew/lib/python3.10/site-packages (from stack-data->IPython->SiEPIC>=0.5.20->siepic_ebeam_pdk==0.4.47) (0.2.2)\n",
      "Building wheels for collected packages: siepic_ebeam_pdk\n",
      "  Building editable for siepic_ebeam_pdk (pyproject.toml) ... \u001b[?25ldone\n",
      "\u001b[?25h  Created wheel for siepic_ebeam_pdk: filename=siepic_ebeam_pdk-0.4.47-0.editable-py3-none-any.whl size=3598 sha256=31e4e60219fb70620fc4eb6a73dd0cb74581238692c8896a6c195347732eda28\n",
      "  Stored in directory: /private/var/folders/2_/hfctv7kn7h965wdl4jgrm8t80000gn/T/pip-ephem-wheel-cache-a6uphmvv/wheels/e6/2e/67/43f290e6b17a0870321457a6beb97d25e424168f2d83054719\n",
      "Successfully built siepic_ebeam_pdk\n",
      "Installing collected packages: siepic_ebeam_pdk\n",
      "  Attempting uninstall: siepic_ebeam_pdk\n",
      "    Found existing installation: siepic_ebeam_pdk 0.4.44\n",
      "    Uninstalling siepic_ebeam_pdk-0.4.44:\n",
      "      Successfully uninstalled siepic_ebeam_pdk-0.4.44\n",
      "Successfully installed siepic_ebeam_pdk-0.4.47\n"
     ]
    }
   ],
   "source": [
    "!python -m pip install -e '/Users/lukasc/Documents/GitHub/SiEPIC-Tools/klayout_dot_config/python'\n",
    "!python -m pip install -e '/Users/lukasc/Documents/GitHub/SiEPIC_EBeam_PDK/klayout'"
   ]
  },
  {
   "cell_type": "code",
   "execution_count": null,
   "id": "36268e1c",
   "metadata": {},
   "outputs": [],
   "source": []
  }
 ],
 "metadata": {
  "kernelspec": {
   "display_name": "Python 3",
   "language": "python",
   "name": "python3"
  },
  "language_info": {
   "codemirror_mode": {
    "name": "ipython",
    "version": 3
   },
   "file_extension": ".py",
   "mimetype": "text/x-python",
   "name": "python",
   "nbconvert_exporter": "python",
   "pygments_lexer": "ipython3",
   "version": "3.10.18"
  }
 },
 "nbformat": 4,
 "nbformat_minor": 5
}
